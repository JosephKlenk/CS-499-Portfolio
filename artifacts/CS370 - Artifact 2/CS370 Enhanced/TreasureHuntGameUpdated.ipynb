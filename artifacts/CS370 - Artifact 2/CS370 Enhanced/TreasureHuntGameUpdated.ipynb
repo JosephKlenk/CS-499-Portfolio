{
  "cells": [
    {
      "cell_type": "markdown",
      "metadata": {
        "id": "T-DOX7lES31T"
      },
      "source": [
        "# Treasure Hunt Game Notebook\n",
        "\n",
        "## Read and Review Your Starter Code\n",
        "The theme of this project is a popular treasure hunt game in which the player needs to find the treasure before the pirate does. While you will not be developing the entire game, you will write the part of the game that represents the intelligent agent, which is a pirate in this case. The pirate will try to find the optimal path to the treasure using deep Q-learning.\n",
        "\n",
        "You have been provided with two Python classes and this notebook to help you with this assignment. The first class, TreasureMaze.py, represents the environment, which includes a maze object defined as a matrix. The second class, GameExperience.py, stores the episodes – that is, all the states that come in between the initial state and the terminal state. This is later used by the agent for learning by experience, called \"exploration\". This notebook shows how to play a game. Your task is to complete the deep Q-learning implementation for which a skeleton implementation has been provided. The code blocks you will need to complete has #TODO as a header.\n",
        "\n",
        "First, read and review the next few code and instruction blocks to understand the code that you have been given."
      ]
    },
    {
      "cell_type": "code",
      "execution_count": 2,
      "metadata": {
        "colab": {
          "base_uri": "https://localhost:8080/"
        },
        "id": "U-Jdjua_S31U",
        "outputId": "8c5bb2c6-ad6c-4a56-996a-0469da04e9c2"
      },
      "outputs": [
        {
          "output_type": "stream",
          "name": "stdout",
          "text": [
            "All imports successful!\n",
            "TreasureMaze class loaded!\n",
            "Enhanced GameExperience class loaded!\n",
            "All helper functions loaded!\n"
          ]
        }
      ],
      "source": [
        "# Cell 1: Imports (Google Colab has everything pre-installed!)\n",
        "from __future__ import print_function\n",
        "import os, sys, time, datetime, json, random\n",
        "import numpy as np\n",
        "from tensorflow.keras.models import Sequential\n",
        "from tensorflow.keras.layers import Dense, Activation\n",
        "from tensorflow.keras.optimizers import SGD, Adam, RMSprop\n",
        "from tensorflow.keras.layers import PReLU\n",
        "import matplotlib.pyplot as plt\n",
        "import heapq\n",
        "\n",
        "print(\"All imports successful!\")\n",
        "\n",
        "# Cell 2: TreasureMaze Class (TreasureMaze.py content here)\n",
        "\n",
        "visited_mark = 0.8\n",
        "pirate_mark = 0.5\n",
        "\n",
        "LEFT = 0\n",
        "UP = 1\n",
        "RIGHT = 2\n",
        "DOWN = 3\n",
        "\n",
        "class TreasureMaze(object):\n",
        "    def __init__(self, maze, pirate=(0,0)):\n",
        "        self._maze = np.array(maze)\n",
        "        nrows, ncols = self._maze.shape\n",
        "        self.target = (nrows-1, ncols-1)\n",
        "        self.free_cells = [(r,c) for r in range(nrows) for c in range(ncols) if self._maze[r,c] == 1.0]\n",
        "        self.free_cells.remove(self.target)\n",
        "        if self._maze[self.target] == 0.0:\n",
        "            raise Exception(\"Invalid maze: target cell cannot be blocked!\")\n",
        "        if not pirate in self.free_cells:\n",
        "            raise Exception(\"Invalid Pirate Location: must sit on a free cell\")\n",
        "        self.reset(pirate)\n",
        "\n",
        "    def reset(self, pirate):\n",
        "        self.pirate = pirate\n",
        "        self.maze = np.copy(self._maze)\n",
        "        nrows, ncols = self.maze.shape\n",
        "        row, col = pirate\n",
        "        self.maze[row, col] = pirate_mark\n",
        "        self.state = (row, col, 'start')\n",
        "        self.min_reward = -0.5 * self.maze.size\n",
        "        self.total_reward = 0\n",
        "        self.visited = set()\n",
        "\n",
        "    def update_state(self, action):\n",
        "        nrows, ncols = self.maze.shape\n",
        "        nrow, ncol, nmode = pirate_row, pirate_col, mode = self.state\n",
        "\n",
        "        if self.maze[pirate_row, pirate_col] > 0.0:\n",
        "            self.visited.add((pirate_row, pirate_col))\n",
        "\n",
        "        valid_actions = self.valid_actions()\n",
        "\n",
        "        if not valid_actions:\n",
        "            nmode = 'blocked'\n",
        "        elif action in valid_actions:\n",
        "            nmode = 'valid'\n",
        "            if action == LEFT:\n",
        "                ncol -= 1\n",
        "            elif action == UP:\n",
        "                nrow -= 1\n",
        "            if action == RIGHT:\n",
        "                ncol += 1\n",
        "            elif action == DOWN:\n",
        "                nrow += 1\n",
        "        else:\n",
        "            mode = 'invalid'\n",
        "\n",
        "        self.state = (nrow, ncol, nmode)\n",
        "\n",
        "    def get_reward(self):\n",
        "        pirate_row, pirate_col, mode = self.state\n",
        "        nrows, ncols = self.maze.shape\n",
        "        if pirate_row == nrows-1 and pirate_col == ncols-1:\n",
        "            return 1.0\n",
        "        if mode == 'blocked':\n",
        "            return self.min_reward - 1\n",
        "        if (pirate_row, pirate_col) in self.visited:\n",
        "            return -0.25\n",
        "        if mode == 'invalid':\n",
        "            return -0.75\n",
        "        if mode == 'valid':\n",
        "            return -0.04\n",
        "\n",
        "    def act(self, action):\n",
        "        self.update_state(action)\n",
        "        reward = self.get_reward()\n",
        "        self.total_reward += reward\n",
        "        status = self.game_status()\n",
        "        envstate = self.observe()\n",
        "        return envstate, reward, status\n",
        "\n",
        "    def observe(self):\n",
        "        canvas = self.draw_env()\n",
        "        envstate = canvas.reshape((1, -1))\n",
        "        return envstate\n",
        "\n",
        "    def draw_env(self):\n",
        "        canvas = np.copy(self.maze)\n",
        "        nrows, ncols = self.maze.shape\n",
        "        for r in range(nrows):\n",
        "            for c in range(ncols):\n",
        "                if canvas[r,c] > 0.0:\n",
        "                    canvas[r,c] = 1.0\n",
        "        row, col, valid = self.state\n",
        "        canvas[row, col] = pirate_mark\n",
        "        return canvas\n",
        "\n",
        "    def game_status(self):\n",
        "        if self.total_reward < self.min_reward:\n",
        "            return 'lose'\n",
        "        pirate_row, pirate_col, mode = self.state\n",
        "        nrows, ncols = self.maze.shape\n",
        "        if pirate_row == nrows-1 and pirate_col == ncols-1:\n",
        "            return 'win'\n",
        "        return 'not_over'\n",
        "\n",
        "    def valid_actions(self, cell=None):\n",
        "        if cell is None:\n",
        "            row, col, mode = self.state\n",
        "        else:\n",
        "            row, col = cell\n",
        "        actions = [0, 1, 2, 3]\n",
        "        nrows, ncols = self.maze.shape\n",
        "        if row == 0:\n",
        "            actions.remove(1)\n",
        "        elif row == nrows-1:\n",
        "            actions.remove(3)\n",
        "        if col == 0:\n",
        "            actions.remove(0)\n",
        "        elif col == ncols-1:\n",
        "            actions.remove(2)\n",
        "        if row>0 and self.maze[row-1,col] == 0.0:\n",
        "            actions.remove(1)\n",
        "        if row<nrows-1 and self.maze[row+1,col] == 0.0:\n",
        "            actions.remove(3)\n",
        "        if col>0 and self.maze[row,col-1] == 0.0:\n",
        "            actions.remove(0)\n",
        "        if col<ncols-1 and self.maze[row,col+1] == 0.0:\n",
        "            actions.remove(2)\n",
        "        return actions\n",
        "\n",
        "print(\"TreasureMaze class loaded!\")\n",
        "\n",
        "# Cell 3: Enhanced GameExperience Class\n",
        "class GameExperience(object):\n",
        "    def __init__(self, model, max_memory=100, discount=0.95, use_priority=False):\n",
        "        self.model = model\n",
        "        self.max_memory = max_memory\n",
        "        self.discount = discount\n",
        "        self.use_priority = use_priority\n",
        "        self.num_actions = model.output_shape[-1]\n",
        "\n",
        "        if use_priority:\n",
        "            self.priority_memory = []\n",
        "            self.episode_count = 0\n",
        "            print(\"🔴 Using ENHANCED Priority Queue Experience Replay\")\n",
        "        else:\n",
        "            self.memory = list()\n",
        "            print(\"🔵 Using ORIGINAL Random Sampling Experience Replay\")\n",
        "\n",
        "    def remember(self, episode):\n",
        "        if self.use_priority:\n",
        "            self._remember_enhanced(episode)\n",
        "        else:\n",
        "            self._remember_original(episode)\n",
        "\n",
        "    def _remember_original(self, episode):\n",
        "        self.memory.append(episode)\n",
        "        if len(self.memory) > self.max_memory:\n",
        "            del self.memory[0]\n",
        "\n",
        "    def _remember_enhanced(self, episode):\n",
        "        td_error = self._calculate_td_error(episode)\n",
        "        priority = abs(td_error) + 0.01\n",
        "        heapq.heappush(self.priority_memory, (-priority, self.episode_count, episode))\n",
        "        self.episode_count += 1\n",
        "        if len(self.priority_memory) > self.max_memory:\n",
        "            heapq.heappop(self.priority_memory)\n",
        "\n",
        "    def _calculate_td_error(self, episode):\n",
        "        envstate, action, reward, envstate_next, game_over = episode\n",
        "        current_q = self.predict(envstate)[action]\n",
        "        if game_over:\n",
        "            target_q = reward\n",
        "        else:\n",
        "            target_q = reward + self.discount * np.max(self.predict(envstate_next))\n",
        "        return abs(target_q - current_q)\n",
        "\n",
        "    def predict(self, envstate):\n",
        "        return self.model.predict(envstate)[0]\n",
        "\n",
        "    def get_data(self, data_size=10):\n",
        "        if self.use_priority:\n",
        "            return self._get_data_enhanced(data_size)\n",
        "        else:\n",
        "            return self._get_data_original(data_size)\n",
        "\n",
        "    def _get_data_original(self, data_size=10):\n",
        "        env_size = self.memory[0][0].shape[1]\n",
        "        mem_size = len(self.memory)\n",
        "        data_size = min(mem_size, data_size)\n",
        "        inputs = np.zeros((data_size, env_size))\n",
        "        targets = np.zeros((data_size, self.num_actions))\n",
        "\n",
        "        for i, j in enumerate(np.random.choice(range(mem_size), data_size, replace=False)):\n",
        "            envstate, action, reward, envstate_next, game_over = self.memory[j]\n",
        "            inputs[i] = envstate\n",
        "            targets[i] = self.predict(envstate)\n",
        "            Q_sa = np.max(self.predict(envstate_next))\n",
        "            if game_over:\n",
        "                targets[i, action] = reward\n",
        "            else:\n",
        "                targets[i, action] = reward + self.discount * Q_sa\n",
        "        return inputs, targets\n",
        "\n",
        "    def _get_data_enhanced(self, data_size=10):\n",
        "        if len(self.priority_memory) == 0:\n",
        "            return None, None\n",
        "\n",
        "        sample_size = min(data_size, len(self.priority_memory))\n",
        "        memory_list = list(self.priority_memory)\n",
        "        priorities = np.array([abs(item[0]) for item in memory_list])\n",
        "\n",
        "        if priorities.sum() > 0:\n",
        "            probabilities = priorities / priorities.sum()\n",
        "        else:\n",
        "            probabilities = np.ones(len(priorities)) / len(priorities)\n",
        "\n",
        "        sample_indices = np.random.choice(len(memory_list), sample_size,\n",
        "                                        p=probabilities, replace=False)\n",
        "        sampled_episodes = [memory_list[i][2] for i in sample_indices]\n",
        "\n",
        "        env_size = sampled_episodes[0][0].shape[1]\n",
        "        inputs = np.zeros((sample_size, env_size))\n",
        "        targets = np.zeros((sample_size, self.num_actions))\n",
        "\n",
        "        for i, episode in enumerate(sampled_episodes):\n",
        "            envstate, action, reward, envstate_next, game_over = episode\n",
        "            inputs[i] = envstate\n",
        "            targets[i] = self.predict(envstate)\n",
        "\n",
        "            if game_over:\n",
        "                targets[i, action] = reward\n",
        "            else:\n",
        "                Q_sa = np.max(self.predict(envstate_next))\n",
        "                targets[i, action] = reward + self.discount * Q_sa\n",
        "\n",
        "        return inputs, targets\n",
        "\n",
        "print(\"Enhanced GameExperience class loaded!\")\n",
        "\n",
        "# Cell 4: Setup and Helper Functions\n",
        "# Constants\n",
        "epsilon = 0.1\n",
        "actions_dict = {LEFT: 'left', UP: 'up', RIGHT: 'right', DOWN: 'down'}\n",
        "num_actions = len(actions_dict)\n",
        "\n",
        "# Maze\n",
        "maze = np.array([\n",
        "    [ 1.,  0.,  1.,  1.,  1.,  1.,  1.,  1.],\n",
        "    [ 1.,  0.,  1.,  1.,  1.,  0.,  1.,  1.],\n",
        "    [ 1.,  1.,  1.,  1.,  0.,  1.,  0.,  1.],\n",
        "    [ 1.,  1.,  1.,  0.,  1.,  1.,  1.,  1.],\n",
        "    [ 1.,  1.,  0.,  1.,  1.,  1.,  1.,  1.],\n",
        "    [ 1.,  1.,  1.,  0.,  1.,  0.,  0.,  0.],\n",
        "    [ 1.,  1.,  1.,  0.,  1.,  1.,  1.,  1.],\n",
        "    [ 1.,  1.,  1.,  1.,  0.,  1.,  1.,  1.]\n",
        "])\n",
        "\n",
        "def show(qmaze):\n",
        "    plt.grid('on')\n",
        "    nrows, ncols = qmaze.maze.shape\n",
        "    ax = plt.gca()\n",
        "    ax.set_xticks(np.arange(0.5, nrows, 1))\n",
        "    ax.set_yticks(np.arange(0.5, ncols, 1))\n",
        "    ax.set_xticklabels([])\n",
        "    ax.set_yticklabels([])\n",
        "    canvas = np.copy(qmaze.maze)\n",
        "    for row,col in qmaze.visited:\n",
        "        canvas[row,col] = 0.6\n",
        "    pirate_row, pirate_col, _ = qmaze.state\n",
        "    canvas[pirate_row, pirate_col] = 0.3\n",
        "    canvas[nrows-1, ncols-1] = 0.9\n",
        "    img = plt.imshow(canvas, interpolation='none', cmap='gray')\n",
        "    return img\n",
        "\n",
        "def play_game(model, qmaze, pirate_cell):\n",
        "    qmaze.reset(pirate_cell)\n",
        "    envstate = qmaze.observe()\n",
        "    while True:\n",
        "        prev_envstate = envstate\n",
        "        q = model.predict(prev_envstate)\n",
        "        action = np.argmax(q[0])\n",
        "        envstate, reward, game_status = qmaze.act(action)\n",
        "        if game_status == 'win':\n",
        "            return True\n",
        "        elif game_status == 'lose':\n",
        "            return False\n",
        "\n",
        "def completion_check(model, qmaze):\n",
        "    for cell in qmaze.free_cells:\n",
        "        if not qmaze.valid_actions(cell):\n",
        "            return False\n",
        "        if not play_game(model, qmaze, cell):\n",
        "            return False\n",
        "    return True\n",
        "\n",
        "def build_model(maze):\n",
        "    model = Sequential()\n",
        "    model.add(Dense(maze.size, input_shape=(maze.size,)))\n",
        "    model.add(PReLU())\n",
        "    model.add(Dense(maze.size))\n",
        "    model.add(PReLU())\n",
        "    model.add(Dense(num_actions))\n",
        "    model.compile(optimizer='adam', loss='mse')\n",
        "    return model\n",
        "\n",
        "def format_time(seconds):\n",
        "    if seconds < 400:\n",
        "        return \"%.1f seconds\" % (seconds,)\n",
        "    elif seconds < 4000:\n",
        "        return \"%.2f minutes\" % (seconds / 60.0,)\n",
        "    else:\n",
        "        return \"%.2f hours\" % (seconds / 3600.0,)\n",
        "\n",
        "print(\"All helper functions loaded!\")"
      ]
    },
    {
      "cell_type": "markdown",
      "metadata": {
        "id": "UlAY9L5FS31U"
      },
      "source": [
        "The following code block contains an 8x8 matrix that will be used as a maze object:"
      ]
    },
    {
      "cell_type": "code",
      "execution_count": null,
      "metadata": {
        "id": "EVnJPp0PS31V"
      },
      "outputs": [],
      "source": [
        "maze = np.array([\n",
        "    [ 1.,  0.,  1.,  1.,  1.,  1.,  1.,  1.],\n",
        "    [ 1.,  0.,  1.,  1.,  1.,  0.,  1.,  1.],\n",
        "    [ 1.,  1.,  1.,  1.,  0.,  1.,  0.,  1.],\n",
        "    [ 1.,  1.,  1.,  0.,  1.,  1.,  1.,  1.],\n",
        "    [ 1.,  1.,  0.,  1.,  1.,  1.,  1.,  1.],\n",
        "    [ 1.,  1.,  1.,  0.,  1.,  0.,  0.,  0.],\n",
        "    [ 1.,  1.,  1.,  0.,  1.,  1.,  1.,  1.],\n",
        "    [ 1.,  1.,  1.,  1.,  0.,  1.,  1.,  1.]\n",
        "])"
      ]
    },
    {
      "cell_type": "markdown",
      "metadata": {
        "id": "6NvhGR-FS31V"
      },
      "source": [
        "This helper function allows a visual representation of the maze object:"
      ]
    },
    {
      "cell_type": "code",
      "execution_count": null,
      "metadata": {
        "id": "anMXcjccS31V"
      },
      "outputs": [],
      "source": [
        "def show(qmaze):\n",
        "    plt.grid('on')\n",
        "    nrows, ncols = qmaze.maze.shape\n",
        "    ax = plt.gca()\n",
        "    ax.set_xticks(np.arange(0.5, nrows, 1))\n",
        "    ax.set_yticks(np.arange(0.5, ncols, 1))\n",
        "    ax.set_xticklabels([])\n",
        "    ax.set_yticklabels([])\n",
        "    canvas = np.copy(qmaze.maze)\n",
        "    for row,col in qmaze.visited:\n",
        "        canvas[row,col] = 0.6\n",
        "    pirate_row, pirate_col, _ = qmaze.state\n",
        "    canvas[pirate_row, pirate_col] = 0.3   # pirate cell\n",
        "    canvas[nrows-1, ncols-1] = 0.9 # treasure cell\n",
        "    img = plt.imshow(canvas, interpolation='none', cmap='gray')\n",
        "    return img"
      ]
    },
    {
      "cell_type": "markdown",
      "metadata": {
        "id": "3G4ONEAjS31V"
      },
      "source": [
        "The pirate agent can move in four directions: left, right, up, and down.\n",
        "\n",
        "While the agent primarily learns by experience through exploitation, often, the agent can choose to explore the environment to find previously undiscovered paths. This is called \"exploration\" and is defined by epsilon. This value is typically a lower value such as 0.1, which means for every ten attempts, the agent will attempt to learn by experience nine times and will randomly explore a new path one time. You are encouraged to try various values for the exploration factor and see how the algorithm performs."
      ]
    },
    {
      "cell_type": "code",
      "execution_count": null,
      "metadata": {
        "id": "PJU6Wv6QS31W"
      },
      "outputs": [],
      "source": [
        "LEFT = 0\n",
        "UP = 1\n",
        "RIGHT = 2\n",
        "DOWN = 3\n",
        "\n",
        "\n",
        "# Exploration factor\n",
        "epsilon = 0.1\n",
        "\n",
        "# Actions dictionary\n",
        "actions_dict = {\n",
        "    LEFT: 'left',\n",
        "    UP: 'up',\n",
        "    RIGHT: 'right',\n",
        "    DOWN: 'down',\n",
        "}\n",
        "\n",
        "num_actions = len(actions_dict)\n"
      ]
    },
    {
      "cell_type": "markdown",
      "metadata": {
        "id": "jzO5U3LbS31W"
      },
      "source": [
        "The sample code block and output below show creating a maze object and performing one action (DOWN), which returns the reward. The resulting updated environment is visualized."
      ]
    },
    {
      "cell_type": "code",
      "execution_count": null,
      "metadata": {
        "id": "ZrBaBC4DS31W",
        "outputId": "4d1611b1-03d0-4b9e-a55f-67417b468d69"
      },
      "outputs": [
        {
          "name": "stdout",
          "output_type": "stream",
          "text": [
            "reward= -0.04\n"
          ]
        },
        {
          "data": {
            "text/plain": [
              "<matplotlib.image.AxesImage at 0x23daf211a08>"
            ]
          },
          "execution_count": 5,
          "metadata": {},
          "output_type": "execute_result"
        },
        {
          "data": {
            "image/png": "[encoded data removed]",
            "text/plain": [
              "<Figure size 432x288 with 1 Axes>"
            ]
          },
          "metadata": {
            "needs_background": "light"
          },
          "output_type": "display_data"
        }
      ],
      "source": [
        "qmaze = TreasureMaze(maze)\n",
        "canvas, reward, game_over = qmaze.act(DOWN)\n",
        "print(\"reward=\", reward)\n",
        "show(qmaze)"
      ]
    },
    {
      "cell_type": "markdown",
      "metadata": {
        "id": "1nOMHb1gS31W"
      },
      "source": [
        "This function simulates a full game based on the provided trained model. The other parameters include the TreasureMaze object and the starting position of the pirate."
      ]
    },
    {
      "cell_type": "code",
      "execution_count": null,
      "metadata": {
        "id": "S5rRQoP_S31W"
      },
      "outputs": [],
      "source": [
        "def play_game(model, qmaze, pirate_cell):\n",
        "    qmaze.reset(pirate_cell)\n",
        "    envstate = qmaze.observe()\n",
        "    while True:\n",
        "        prev_envstate = envstate\n",
        "        # get next action\n",
        "        q = model.predict(prev_envstate)\n",
        "        action = np.argmax(q[0])\n",
        "\n",
        "        # apply action, get rewards and new state\n",
        "        envstate, reward, game_status = qmaze.act(action)\n",
        "        if game_status == 'win':\n",
        "            return True\n",
        "        elif game_status == 'lose':\n",
        "            return False"
      ]
    },
    {
      "cell_type": "markdown",
      "metadata": {
        "id": "hIm84E25S31W"
      },
      "source": [
        "This function helps you to determine whether the pirate can win any game at all. If your maze is not well designed, the pirate may not win any game at all. In this case, your training would not yield any result. The provided maze in this notebook ensures that there is a path to win and you can run this method to check."
      ]
    },
    {
      "cell_type": "code",
      "execution_count": null,
      "metadata": {
        "id": "V_doCVMoS31W"
      },
      "outputs": [],
      "source": [
        "def completion_check(model, qmaze):\n",
        "    for cell in qmaze.free_cells:\n",
        "        if not qmaze.valid_actions(cell):\n",
        "            return False\n",
        "        if not play_game(model, qmaze, cell):\n",
        "            return False\n",
        "    return True"
      ]
    },
    {
      "cell_type": "markdown",
      "metadata": {
        "id": "hottoNQMS31X"
      },
      "source": [
        "The code you have been given in this block will build the neural network model. Review the code and note the number of layers, as well as the activation, optimizer, and loss functions that are used to train the model."
      ]
    },
    {
      "cell_type": "code",
      "execution_count": null,
      "metadata": {
        "id": "z5BgBwSLS31X"
      },
      "outputs": [],
      "source": [
        "def build_model(maze):\n",
        "    model = Sequential()\n",
        "    model.add(Dense(maze.size, input_shape=(maze.size,)))\n",
        "    model.add(PReLU())\n",
        "    model.add(Dense(maze.size))\n",
        "    model.add(PReLU())\n",
        "    model.add(Dense(num_actions))\n",
        "    model.compile(optimizer='adam', loss='mse')\n",
        "    return model"
      ]
    },
    {
      "cell_type": "markdown",
      "metadata": {
        "id": "NA4rCH0iS31X"
      },
      "source": [
        "# #TODO: Complete the Q-Training Algorithm Code Block\n",
        "\n",
        "This is your deep Q-learning implementation. The goal of your deep Q-learning implementation is to find the best possible navigation sequence that results in reaching the treasure cell while maximizing the reward. In your implementation, you need to determine the optimal number of epochs to achieve a 100% win rate.\n",
        "\n",
        "You will need to complete the section starting with #pseudocode. The pseudocode has been included for you."
      ]
    },
    {
      "cell_type": "code",
      "execution_count": null,
      "metadata": {
        "id": "Xr-wUnpkS31X"
      },
      "outputs": [],
      "source": [
        "def qtrain(model, maze, **opt):\n",
        "    # exploration factor\n",
        "    global epsilon\n",
        "    # number of epochs\n",
        "    n_epoch = opt.get('n_epoch', 15000)\n",
        "    # maximum memory to store episodes\n",
        "    max_memory = opt.get('max_memory', 1000)\n",
        "    # maximum data size for training\n",
        "    data_size = opt.get('data_size', 50)\n",
        "    # start time\n",
        "    start_time = datetime.datetime.now()\n",
        "    # Construct environment/game from numpy array: maze (see above)\n",
        "    qmaze = TreasureMaze(maze)\n",
        "    # Initialize experience replay object\n",
        "    experience = GameExperience(model, max_memory=max_memory)\n",
        "\n",
        "    win_history = []   # history of win/lose game\n",
        "    hsize = qmaze.maze.size//2   # history window size\n",
        "    win_rate = 0.0\n",
        "\n",
        "    # pseudocode:\n",
        "    # For each epoch:\n",
        "    #    Agent_cell = randomly select a free cell\n",
        "    #    Reset the maze with agent set to above position\n",
        "    #    Hint: Review the reset method in the TreasureMaze.py class.\n",
        "    #    envstate = Environment.current_state\n",
        "    #    Hint: Review the observe method in the TreasureMaze.py class.\n",
        "    #    While state is not game over:\n",
        "    #        previous_envstate = envstate\n",
        "    #        Action = randomly choose action (left, right, up, down) either by exploration or by exploitation\n",
        "    #        envstate, reward, game_status = qmaze.act(action)\n",
        "    #    Hint: Review the act method in the TreasureMaze.py class.\n",
        "    #        episode = [previous_envstate, action, reward, envstate, game_status]\n",
        "    #        Store episode in Experience replay object\n",
        "    #    Hint: Review the remember method in the GameExperience.py class.\n",
        "    #        Train neural network model and evaluate loss\n",
        "    #    Hint: Call GameExperience.get_data to retrieve training data (input and target) and pass to model.fit method\n",
        "    #          to train the model. You can call model.evaluate to determine loss.\n",
        "    #    If the win rate is above the threshold and your model passes the completion check, that would be your epoch.\n",
        "\n",
        "    # For each epoch\n",
        "    for epoch in range(n_epoch):\n",
        "        loss = 0.0\n",
        "        # Agent_cell = randomly select a free cell\n",
        "        pirate_cell = random.choice(qmaze.free_cells)\n",
        "        # Reset the maze with agent set to above position\n",
        "        qmaze.reset(pirate_cell)\n",
        "        # Get initial state of the environment\n",
        "        envstate = qmaze.observe()\n",
        "\n",
        "        n_episodes = 0\n",
        "\n",
        "        # While game is not over\n",
        "        while True:\n",
        "            # Previous environment state\n",
        "            previous_envstate = envstate\n",
        "\n",
        "            # Action = randomly choose action (left, right, up, down) either by exploration or by exploitation\n",
        "            if np.random.rand() < epsilon:  # Exploration: random action\n",
        "                action = random.choice(qmaze.valid_actions())\n",
        "            else:  # Exploitation: use neural network to predict best action\n",
        "                action = np.argmax(experience.predict(previous_envstate))\n",
        "\n",
        "            # Apply action, get rewards and new state\n",
        "            envstate, reward, game_status = qmaze.act(action)\n",
        "\n",
        "            # Store episode in Experience replay object\n",
        "            episode = [previous_envstate, action, reward, envstate, game_status != 'not_over']\n",
        "            experience.remember(episode)\n",
        "            n_episodes += 1\n",
        "\n",
        "            # Train neural network model and evaluate loss\n",
        "            inputs, targets = experience.get_data(data_size=data_size)\n",
        "            h = model.fit(\n",
        "                inputs,\n",
        "                targets,\n",
        "                epochs=8,\n",
        "                batch_size=16,\n",
        "                verbose=0,\n",
        "            )\n",
        "            loss = model.evaluate(inputs, targets, verbose=0)\n",
        "\n",
        "            # Check if game is complete\n",
        "            if game_status != 'not_over':\n",
        "                if game_status == 'win':\n",
        "                    win_history.append(1)\n",
        "                else:\n",
        "                    win_history.append(0)\n",
        "                break\n",
        "\n",
        "        # Check win rate\n",
        "        if len(win_history) > hsize:\n",
        "            win_rate = sum(win_history[-hsize:]) / hsize\n",
        "\n",
        "        # Print the epoch, loss, episodes, win count, and win rate for each epoch\n",
        "        dt = datetime.datetime.now() - start_time\n",
        "        t = format_time(dt.total_seconds())\n",
        "        template = \"Epoch: {:03d}/{:d} | Loss: {:.4f} | Episodes: {:d} | Win count: {:d} | Win rate: {:.3f} | time: {}\"\n",
        "        print(template.format(epoch, n_epoch-1, loss, n_episodes, sum(win_history), win_rate, t))\n",
        "        # We simply check if training has exhausted all free cells and if in all\n",
        "        # cases the agent won.\n",
        "        if win_rate > 0.9 : epsilon = 0.05\n",
        "        if sum(win_history[-hsize:]) == hsize and completion_check(model, qmaze):\n",
        "            print(\"Reached 100%% win rate at epoch: %d\" % (epoch,))\n",
        "            break\n",
        "\n",
        "\n",
        "    # Determine the total time for training\n",
        "    dt = datetime.datetime.now() - start_time\n",
        "    seconds = dt.total_seconds()\n",
        "    t = format_time(seconds)\n",
        "    print(\"n_epoch: %d, max_mem: %d, data: %d, time: %s\" % (epoch, max_memory, data_size, t))\n",
        "    return seconds\n",
        "\n",
        "# This is a small utility for printing readable time strings:\n",
        "def format_time(seconds):\n",
        "    if seconds < 400:\n",
        "        s = float(seconds)\n",
        "        return \"%.1f seconds\" % (s,)\n",
        "    elif seconds < 4000:\n",
        "        m = seconds / 60.0\n",
        "        return \"%.2f minutes\" % (m,)\n",
        "    else:\n",
        "        h = seconds / 3600.0\n",
        "        return \"%.2f hours\" % (h,)"
      ]
    },
    {
      "cell_type": "code",
      "source": [
        "#enhance Qtrain model\n",
        "def qtrain_enhanced(model, maze, use_priority=False, **opt):\n",
        "    \"\"\"\n",
        "    Enhanced qtrain - only difference is use_priority parameter\n",
        "    \"\"\"\n",
        "    global epsilon\n",
        "    n_epoch = opt.get('n_epoch', 15000)\n",
        "    max_memory = opt.get('max_memory', 1000)\n",
        "    data_size = opt.get('data_size', 50)\n",
        "    start_time = datetime.datetime.now()\n",
        "\n",
        "    qmaze = TreasureMaze(maze)\n",
        "    # Only difference: pass use_priority to GameExperience\n",
        "    experience = GameExperience(model, max_memory=max_memory, use_priority=use_priority)\n",
        "\n",
        "    win_history = []\n",
        "    hsize = qmaze.maze.size//2\n",
        "    win_rate = 0.0\n",
        "\n",
        "    for epoch in range(n_epoch):\n",
        "        loss = 0.0\n",
        "        pirate_cell = random.choice(qmaze.free_cells)\n",
        "        qmaze.reset(pirate_cell)\n",
        "        envstate = qmaze.observe()\n",
        "        n_episodes = 0\n",
        "\n",
        "        while True:\n",
        "            previous_envstate = envstate\n",
        "\n",
        "            if np.random.rand() < epsilon:\n",
        "                action = random.choice(qmaze.valid_actions())\n",
        "            else:\n",
        "                action = np.argmax(experience.predict(previous_envstate))\n",
        "\n",
        "            envstate, reward, game_status = qmaze.act(action)\n",
        "            episode = [previous_envstate, action, reward, envstate, game_status != 'not_over']\n",
        "            experience.remember(episode)\n",
        "            n_episodes += 1\n",
        "\n",
        "            inputs, targets = experience.get_data(data_size=data_size)\n",
        "            h = model.fit(inputs, targets, epochs=8, batch_size=16, verbose=0)\n",
        "            loss = model.evaluate(inputs, targets, verbose=0)\n",
        "\n",
        "            if game_status != 'not_over':\n",
        "                if game_status == 'win':\n",
        "                    win_history.append(1)\n",
        "                else:\n",
        "                    win_history.append(0)\n",
        "                break\n",
        "\n",
        "        if len(win_history) > hsize:\n",
        "            win_rate = sum(win_history[-hsize:]) / hsize\n",
        "\n",
        "        dt = datetime.datetime.now() - start_time\n",
        "        t = format_time(dt.total_seconds())\n",
        "        template = \"Epoch: {:03d}/{:d} | Loss: {:.4f} | Episodes: {:d} | Win count: {:d} | Win rate: {:.3f} | time: {}\"\n",
        "        print(template.format(epoch, n_epoch-1, loss, n_episodes, sum(win_history), win_rate, t))\n",
        "\n",
        "        if win_rate > 0.9:\n",
        "            epsilon = 0.05\n",
        "        if sum(win_history[-hsize:]) == hsize and completion_check(model, qmaze):\n",
        "            print(\"Reached 100%% win rate at epoch: %d\" % (epoch,))\n",
        "            break\n",
        "\n",
        "    dt = datetime.datetime.now() - start_time\n",
        "    seconds = dt.total_seconds()\n",
        "    t = format_time(seconds)\n",
        "    print(\"n_epoch: %d, max_mem: %d, data: %d, time: %s\" % (epoch, max_memory, data_size, t))\n",
        "    return seconds"
      ],
      "metadata": {
        "id": "rC-ZoP_PTJqS"
      },
      "execution_count": 3,
      "outputs": []
    },
    {
      "cell_type": "markdown",
      "metadata": {
        "id": "bXxf9Ox-S31X"
      },
      "source": [
        "## Test Your Model\n",
        "\n",
        "Now we will start testing the deep Q-learning implementation. To begin, select **Cell**, then **Run All** from the menu bar. This will run your notebook. As it runs, you should see output begin to appear beneath the next few cells. The code below creates an instance of TreasureMaze."
      ]
    },
    {
      "cell_type": "code",
      "execution_count": null,
      "metadata": {
        "id": "YB4ymKKhS31X",
        "outputId": "52c0a456-310a-4a43-ae8a-406e644d8648"
      },
      "outputs": [
        {
          "data": {
            "text/plain": [
              "<matplotlib.image.AxesImage at 0x23daf2d83c8>"
            ]
          },
          "execution_count": 10,
          "metadata": {},
          "output_type": "execute_result"
        },
        {
          "data": {
            "image/png": "[encoded data removed]",
            "text/plain": [
              "<Figure size 432x288 with 1 Axes>"
            ]
          },
          "metadata": {
            "needs_background": "light"
          },
          "output_type": "display_data"
        }
      ],
      "source": [
        "qmaze = TreasureMaze(maze)\n",
        "show(qmaze)"
      ]
    },
    {
      "cell_type": "markdown",
      "metadata": {
        "id": "vL_MAU3GS31X"
      },
      "source": [
        "In the next code block, you will build your model and train it using deep Q-learning. Note: This step takes several minutes to fully run."
      ]
    },
    {
      "cell_type": "code",
      "execution_count": null,
      "metadata": {
        "id": "_JnsTl4sS31X",
        "outputId": "37cc2d21-bb20-4064-b05d-5b6ef414cb3c"
      },
      "outputs": [
        {
          "name": "stdout",
          "output_type": "stream",
          "text": [
            "Epoch: 000/14999 | Loss: 0.0377 | Episodes: 155 | Win count: 0 | Win rate: 0.000 | time: 18.2 seconds\n",
            "Epoch: 001/14999 | Loss: 0.0017 | Episodes: 95 | Win count: 1 | Win rate: 0.000 | time: 30.5 seconds\n",
            "Epoch: 002/14999 | Loss: 0.0033 | Episodes: 45 | Win count: 2 | Win rate: 0.000 | time: 37.0 seconds\n",
            "Epoch: 003/14999 | Loss: 0.0691 | Episodes: 4 | Win count: 3 | Win rate: 0.000 | time: 37.5 seconds\n",
            "Epoch: 004/14999 | Loss: 0.0135 | Episodes: 133 | Win count: 3 | Win rate: 0.000 | time: 55.1 seconds\n",
            "Epoch: 005/14999 | Loss: 0.0021 | Episodes: 26 | Win count: 4 | Win rate: 0.000 | time: 58.5 seconds\n",
            "Epoch: 006/14999 | Loss: 0.0061 | Episodes: 25 | Win count: 5 | Win rate: 0.000 | time: 61.6 seconds\n",
            "Epoch: 007/14999 | Loss: 0.0033 | Episodes: 3 | Win count: 6 | Win rate: 0.000 | time: 62.1 seconds\n",
            "Epoch: 008/14999 | Loss: 0.0080 | Episodes: 139 | Win count: 6 | Win rate: 0.000 | time: 79.8 seconds\n",
            "Epoch: 009/14999 | Loss: 0.0064 | Episodes: 78 | Win count: 7 | Win rate: 0.000 | time: 89.0 seconds\n",
            "Epoch: 010/14999 | Loss: 0.0043 | Episodes: 107 | Win count: 8 | Win rate: 0.000 | time: 102.4 seconds\n",
            "Epoch: 011/14999 | Loss: 0.0034 | Episodes: 147 | Win count: 8 | Win rate: 0.000 | time: 121.8 seconds\n",
            "Epoch: 012/14999 | Loss: 0.0040 | Episodes: 10 | Win count: 9 | Win rate: 0.000 | time: 123.1 seconds\n",
            "Epoch: 013/14999 | Loss: 0.0065 | Episodes: 1 | Win count: 10 | Win rate: 0.000 | time: 123.3 seconds\n",
            "Epoch: 014/14999 | Loss: 0.0021 | Episodes: 104 | Win count: 11 | Win rate: 0.000 | time: 137.9 seconds\n",
            "Epoch: 015/14999 | Loss: 0.0064 | Episodes: 27 | Win count: 12 | Win rate: 0.000 | time: 141.3 seconds\n",
            "Epoch: 016/14999 | Loss: 0.0106 | Episodes: 108 | Win count: 13 | Win rate: 0.000 | time: 154.3 seconds\n",
            "Epoch: 017/14999 | Loss: 0.0036 | Episodes: 31 | Win count: 14 | Win rate: 0.000 | time: 158.0 seconds\n",
            "Epoch: 018/14999 | Loss: 0.0027 | Episodes: 117 | Win count: 15 | Win rate: 0.000 | time: 172.1 seconds\n",
            "Epoch: 019/14999 | Loss: 0.0032 | Episodes: 32 | Win count: 16 | Win rate: 0.000 | time: 175.6 seconds\n",
            "Epoch: 020/14999 | Loss: 0.0031 | Episodes: 29 | Win count: 17 | Win rate: 0.000 | time: 178.9 seconds\n",
            "Epoch: 021/14999 | Loss: 0.0017 | Episodes: 17 | Win count: 18 | Win rate: 0.000 | time: 181.0 seconds\n",
            "Epoch: 022/14999 | Loss: 0.0010 | Episodes: 15 | Win count: 19 | Win rate: 0.000 | time: 182.8 seconds\n",
            "Epoch: 023/14999 | Loss: 0.0013 | Episodes: 2 | Win count: 20 | Win rate: 0.000 | time: 183.0 seconds\n",
            "Epoch: 024/14999 | Loss: 0.0014 | Episodes: 11 | Win count: 21 | Win rate: 0.000 | time: 184.3 seconds\n",
            "Epoch: 025/14999 | Loss: 0.0013 | Episodes: 28 | Win count: 22 | Win rate: 0.000 | time: 187.5 seconds\n",
            "Epoch: 026/14999 | Loss: 0.0030 | Episodes: 18 | Win count: 23 | Win rate: 0.000 | time: 189.7 seconds\n",
            "Epoch: 027/14999 | Loss: 0.0011 | Episodes: 20 | Win count: 24 | Win rate: 0.000 | time: 191.7 seconds\n",
            "Epoch: 028/14999 | Loss: 0.0022 | Episodes: 3 | Win count: 25 | Win rate: 0.000 | time: 192.1 seconds\n",
            "Epoch: 029/14999 | Loss: 0.0022 | Episodes: 13 | Win count: 26 | Win rate: 0.000 | time: 193.5 seconds\n",
            "Epoch: 030/14999 | Loss: 0.0013 | Episodes: 1 | Win count: 27 | Win rate: 0.000 | time: 193.6 seconds\n",
            "Epoch: 031/14999 | Loss: 0.0023 | Episodes: 1 | Win count: 28 | Win rate: 0.000 | time: 193.7 seconds\n",
            "Epoch: 032/14999 | Loss: 0.0024 | Episodes: 7 | Win count: 29 | Win rate: 0.906 | time: 194.5 seconds\n",
            "Epoch: 033/14999 | Loss: 0.0007 | Episodes: 13 | Win count: 30 | Win rate: 0.906 | time: 195.9 seconds\n",
            "Epoch: 034/14999 | Loss: 0.0050 | Episodes: 71 | Win count: 31 | Win rate: 0.906 | time: 203.8 seconds\n",
            "Epoch: 035/14999 | Loss: 0.0019 | Episodes: 37 | Win count: 32 | Win rate: 0.906 | time: 208.0 seconds\n",
            "Epoch: 036/14999 | Loss: 0.0019 | Episodes: 52 | Win count: 33 | Win rate: 0.938 | time: 213.8 seconds\n",
            "Epoch: 037/14999 | Loss: 0.0020 | Episodes: 40 | Win count: 34 | Win rate: 0.938 | time: 218.4 seconds\n",
            "Epoch: 038/14999 | Loss: 0.0026 | Episodes: 31 | Win count: 35 | Win rate: 0.938 | time: 221.9 seconds\n",
            "Epoch: 039/14999 | Loss: 0.0018 | Episodes: 18 | Win count: 36 | Win rate: 0.938 | time: 223.7 seconds\n",
            "Epoch: 040/14999 | Loss: 0.0015 | Episodes: 7 | Win count: 37 | Win rate: 0.969 | time: 224.5 seconds\n",
            "Epoch: 041/14999 | Loss: 0.0023 | Episodes: 28 | Win count: 38 | Win rate: 0.969 | time: 227.6 seconds\n",
            "Epoch: 042/14999 | Loss: 0.0015 | Episodes: 45 | Win count: 39 | Win rate: 0.969 | time: 232.6 seconds\n",
            "Epoch: 043/14999 | Loss: 0.0025 | Episodes: 25 | Win count: 40 | Win rate: 1.000 | time: 235.5 seconds\n",
            "Epoch: 044/14999 | Loss: 0.0005 | Episodes: 10 | Win count: 41 | Win rate: 1.000 | time: 236.7 seconds\n",
            "Epoch: 045/14999 | Loss: 0.0010 | Episodes: 24 | Win count: 42 | Win rate: 1.000 | time: 239.5 seconds\n",
            "Epoch: 046/14999 | Loss: 0.0030 | Episodes: 2 | Win count: 43 | Win rate: 1.000 | time: 239.9 seconds\n",
            "Epoch: 047/14999 | Loss: 0.0008 | Episodes: 5 | Win count: 44 | Win rate: 1.000 | time: 240.6 seconds\n",
            "Epoch: 048/14999 | Loss: 0.0024 | Episodes: 24 | Win count: 45 | Win rate: 1.000 | time: 243.5 seconds\n",
            "Epoch: 049/14999 | Loss: 0.0006 | Episodes: 20 | Win count: 46 | Win rate: 1.000 | time: 245.9 seconds\n",
            "Epoch: 050/14999 | Loss: 0.0009 | Episodes: 27 | Win count: 47 | Win rate: 1.000 | time: 248.9 seconds\n",
            "Epoch: 051/14999 | Loss: 0.0006 | Episodes: 28 | Win count: 48 | Win rate: 1.000 | time: 252.4 seconds\n",
            "Epoch: 052/14999 | Loss: 0.0014 | Episodes: 51 | Win count: 49 | Win rate: 1.000 | time: 258.2 seconds\n",
            "Epoch: 053/14999 | Loss: 0.0012 | Episodes: 1 | Win count: 50 | Win rate: 1.000 | time: 258.5 seconds\n",
            "Epoch: 054/14999 | Loss: 0.0022 | Episodes: 9 | Win count: 51 | Win rate: 1.000 | time: 259.6 seconds\n",
            "Epoch: 055/14999 | Loss: 0.0009 | Episodes: 24 | Win count: 52 | Win rate: 1.000 | time: 262.4 seconds\n",
            "Epoch: 056/14999 | Loss: 0.0013 | Episodes: 7 | Win count: 53 | Win rate: 1.000 | time: 263.3 seconds\n",
            "Epoch: 057/14999 | Loss: 0.0004 | Episodes: 15 | Win count: 54 | Win rate: 1.000 | time: 265.3 seconds\n",
            "Epoch: 058/14999 | Loss: 0.0016 | Episodes: 2 | Win count: 55 | Win rate: 1.000 | time: 265.6 seconds\n",
            "Epoch: 059/14999 | Loss: 0.0009 | Episodes: 18 | Win count: 56 | Win rate: 1.000 | time: 268.0 seconds\n",
            "Epoch: 060/14999 | Loss: 0.0004 | Episodes: 21 | Win count: 57 | Win rate: 1.000 | time: 270.2 seconds\n",
            "Epoch: 061/14999 | Loss: 0.0011 | Episodes: 47 | Win count: 58 | Win rate: 1.000 | time: 275.7 seconds\n",
            "Epoch: 062/14999 | Loss: 0.0004 | Episodes: 17 | Win count: 59 | Win rate: 1.000 | time: 277.8 seconds\n",
            "Epoch: 063/14999 | Loss: 0.0004 | Episodes: 3 | Win count: 60 | Win rate: 1.000 | time: 278.2 seconds\n",
            "Epoch: 064/14999 | Loss: 0.0005 | Episodes: 26 | Win count: 61 | Win rate: 1.000 | time: 281.1 seconds\n",
            "Epoch: 065/14999 | Loss: 0.0010 | Episodes: 27 | Win count: 62 | Win rate: 1.000 | time: 284.2 seconds\n",
            "Epoch: 066/14999 | Loss: 0.0007 | Episodes: 5 | Win count: 63 | Win rate: 1.000 | time: 284.8 seconds\n",
            "Epoch: 067/14999 | Loss: 0.0006 | Episodes: 3 | Win count: 64 | Win rate: 1.000 | time: 285.2 seconds\n",
            "Epoch: 068/14999 | Loss: 0.0005 | Episodes: 27 | Win count: 65 | Win rate: 1.000 | time: 288.2 seconds\n",
            "Epoch: 069/14999 | Loss: 0.0008 | Episodes: 24 | Win count: 66 | Win rate: 1.000 | time: 291.1 seconds\n",
            "Epoch: 070/14999 | Loss: 0.0005 | Episodes: 10 | Win count: 67 | Win rate: 1.000 | time: 292.2 seconds\n",
            "Epoch: 071/14999 | Loss: 0.0007 | Episodes: 2 | Win count: 68 | Win rate: 1.000 | time: 292.6 seconds\n",
            "Epoch: 072/14999 | Loss: 0.0017 | Episodes: 9 | Win count: 69 | Win rate: 1.000 | time: 293.7 seconds\n",
            "Epoch: 073/14999 | Loss: 0.0008 | Episodes: 21 | Win count: 70 | Win rate: 1.000 | time: 296.1 seconds\n",
            "Epoch: 074/14999 | Loss: 0.0002 | Episodes: 26 | Win count: 71 | Win rate: 1.000 | time: 299.1 seconds\n",
            "Epoch: 075/14999 | Loss: 0.0001 | Episodes: 26 | Win count: 72 | Win rate: 1.000 | time: 302.2 seconds\n",
            "Epoch: 076/14999 | Loss: 0.0001 | Episodes: 28 | Win count: 73 | Win rate: 1.000 | time: 305.4 seconds\n",
            "Epoch: 077/14999 | Loss: 0.0008 | Episodes: 32 | Win count: 74 | Win rate: 1.000 | time: 309.0 seconds\n",
            "Epoch: 078/14999 | Loss: 0.0004 | Episodes: 8 | Win count: 75 | Win rate: 1.000 | time: 310.0 seconds\n",
            "Epoch: 079/14999 | Loss: 0.0010 | Episodes: 27 | Win count: 76 | Win rate: 1.000 | time: 312.8 seconds\n",
            "Epoch: 080/14999 | Loss: 0.0002 | Episodes: 3 | Win count: 77 | Win rate: 1.000 | time: 313.2 seconds\n",
            "Epoch: 081/14999 | Loss: 0.0005 | Episodes: 32 | Win count: 78 | Win rate: 1.000 | time: 316.9 seconds\n",
            "Epoch: 082/14999 | Loss: 0.0001 | Episodes: 30 | Win count: 79 | Win rate: 1.000 | time: 320.3 seconds\n",
            "Epoch: 083/14999 | Loss: 0.0002 | Episodes: 18 | Win count: 80 | Win rate: 1.000 | time: 322.5 seconds\n",
            "Epoch: 084/14999 | Loss: 0.0004 | Episodes: 2 | Win count: 81 | Win rate: 1.000 | time: 322.8 seconds\n",
            "Epoch: 085/14999 | Loss: 0.0017 | Episodes: 12 | Win count: 82 | Win rate: 1.000 | time: 324.2 seconds\n",
            "Epoch: 086/14999 | Loss: 0.0012 | Episodes: 54 | Win count: 83 | Win rate: 1.000 | time: 330.2 seconds\n",
            "Epoch: 087/14999 | Loss: 0.0004 | Episodes: 30 | Win count: 84 | Win rate: 1.000 | time: 333.7 seconds\n",
            "Epoch: 088/14999 | Loss: 0.0005 | Episodes: 37 | Win count: 85 | Win rate: 1.000 | time: 337.9 seconds\n",
            "Epoch: 089/14999 | Loss: 0.0020 | Episodes: 2 | Win count: 86 | Win rate: 1.000 | time: 338.3 seconds\n",
            "Epoch: 090/14999 | Loss: 0.0008 | Episodes: 17 | Win count: 87 | Win rate: 1.000 | time: 340.3 seconds\n",
            "Epoch: 091/14999 | Loss: 0.0010 | Episodes: 31 | Win count: 88 | Win rate: 1.000 | time: 344.0 seconds\n",
            "Epoch: 092/14999 | Loss: 0.0005 | Episodes: 22 | Win count: 89 | Win rate: 1.000 | time: 346.8 seconds\n",
            "Epoch: 093/14999 | Loss: 0.0009 | Episodes: 23 | Win count: 90 | Win rate: 1.000 | time: 349.6 seconds\n",
            "Epoch: 094/14999 | Loss: 0.0005 | Episodes: 13 | Win count: 91 | Win rate: 1.000 | time: 351.2 seconds\n",
            "Epoch: 095/14999 | Loss: 0.0013 | Episodes: 39 | Win count: 92 | Win rate: 1.000 | time: 355.8 seconds\n",
            "Epoch: 096/14999 | Loss: 0.0008 | Episodes: 18 | Win count: 93 | Win rate: 1.000 | time: 358.0 seconds\n",
            "Epoch: 097/14999 | Loss: 0.0006 | Episodes: 2 | Win count: 94 | Win rate: 1.000 | time: 358.4 seconds\n",
            "Epoch: 098/14999 | Loss: 0.0027 | Episodes: 22 | Win count: 95 | Win rate: 1.000 | time: 361.1 seconds\n",
            "Epoch: 099/14999 | Loss: 0.0010 | Episodes: 9 | Win count: 96 | Win rate: 1.000 | time: 362.5 seconds\n",
            "Epoch: 100/14999 | Loss: 0.0007 | Episodes: 27 | Win count: 97 | Win rate: 1.000 | time: 366.1 seconds\n",
            "Epoch: 101/14999 | Loss: 0.0006 | Episodes: 2 | Win count: 98 | Win rate: 1.000 | time: 366.5 seconds\n",
            "Epoch: 102/14999 | Loss: 0.0005 | Episodes: 23 | Win count: 99 | Win rate: 1.000 | time: 369.5 seconds\n",
            "Epoch: 103/14999 | Loss: 0.0004 | Episodes: 17 | Win count: 100 | Win rate: 1.000 | time: 371.7 seconds\n",
            "Epoch: 104/14999 | Loss: 0.0005 | Episodes: 1 | Win count: 101 | Win rate: 1.000 | time: 371.9 seconds\n",
            "Epoch: 105/14999 | Loss: 0.0005 | Episodes: 7 | Win count: 102 | Win rate: 1.000 | time: 372.9 seconds\n",
            "Epoch: 106/14999 | Loss: 0.0015 | Episodes: 9 | Win count: 103 | Win rate: 1.000 | time: 374.1 seconds\n",
            "Epoch: 107/14999 | Loss: 0.0012 | Episodes: 19 | Win count: 104 | Win rate: 1.000 | time: 376.9 seconds\n",
            "Epoch: 108/14999 | Loss: 0.0007 | Episodes: 7 | Win count: 105 | Win rate: 1.000 | time: 377.9 seconds\n",
            "Epoch: 109/14999 | Loss: 0.0014 | Episodes: 7 | Win count: 106 | Win rate: 1.000 | time: 379.0 seconds\n",
            "Epoch: 110/14999 | Loss: 0.0004 | Episodes: 8 | Win count: 107 | Win rate: 1.000 | time: 380.4 seconds\n",
            "Epoch: 111/14999 | Loss: 0.0003 | Episodes: 28 | Win count: 108 | Win rate: 1.000 | time: 384.3 seconds\n",
            "Epoch: 112/14999 | Loss: 0.0005 | Episodes: 29 | Win count: 109 | Win rate: 1.000 | time: 388.2 seconds\n",
            "Epoch: 113/14999 | Loss: 0.0002 | Episodes: 2 | Win count: 110 | Win rate: 1.000 | time: 388.6 seconds\n",
            "Epoch: 114/14999 | Loss: 0.0012 | Episodes: 20 | Win count: 111 | Win rate: 1.000 | time: 391.3 seconds\n",
            "Epoch: 115/14999 | Loss: 0.0009 | Episodes: 9 | Win count: 112 | Win rate: 1.000 | time: 392.6 seconds\n",
            "Epoch: 116/14999 | Loss: 0.0004 | Episodes: 7 | Win count: 113 | Win rate: 1.000 | time: 393.5 seconds\n",
            "Epoch: 117/14999 | Loss: 0.0006 | Episodes: 17 | Win count: 114 | Win rate: 1.000 | time: 395.8 seconds\n",
            "Epoch: 118/14999 | Loss: 0.0003 | Episodes: 17 | Win count: 115 | Win rate: 1.000 | time: 398.1 seconds\n",
            "Epoch: 119/14999 | Loss: 0.0005 | Episodes: 20 | Win count: 116 | Win rate: 1.000 | time: 6.68 minutes\n",
            "Epoch: 120/14999 | Loss: 0.0004 | Episodes: 2 | Win count: 117 | Win rate: 1.000 | time: 6.69 minutes\n",
            "Epoch: 121/14999 | Loss: 0.0001 | Episodes: 8 | Win count: 118 | Win rate: 1.000 | time: 6.70 minutes\n",
            "Epoch: 122/14999 | Loss: 0.0004 | Episodes: 12 | Win count: 119 | Win rate: 1.000 | time: 6.73 minutes\n",
            "Epoch: 123/14999 | Loss: 0.0006 | Episodes: 3 | Win count: 120 | Win rate: 1.000 | time: 6.74 minutes\n",
            "Epoch: 124/14999 | Loss: 0.0017 | Episodes: 49 | Win count: 121 | Win rate: 1.000 | time: 6.84 minutes\n",
            "Epoch: 125/14999 | Loss: 0.0006 | Episodes: 24 | Win count: 122 | Win rate: 1.000 | time: 6.90 minutes\n",
            "Epoch: 126/14999 | Loss: 0.0014 | Episodes: 9 | Win count: 123 | Win rate: 1.000 | time: 6.92 minutes\n",
            "Epoch: 127/14999 | Loss: 0.0011 | Episodes: 27 | Win count: 124 | Win rate: 1.000 | time: 6.97 minutes\n",
            "Epoch: 128/14999 | Loss: 0.0002 | Episodes: 13 | Win count: 125 | Win rate: 1.000 | time: 7.00 minutes\n",
            "Epoch: 129/14999 | Loss: 0.0012 | Episodes: 20 | Win count: 126 | Win rate: 1.000 | time: 7.05 minutes\n",
            "Epoch: 130/14999 | Loss: 0.0004 | Episodes: 11 | Win count: 127 | Win rate: 1.000 | time: 7.08 minutes\n",
            "Epoch: 131/14999 | Loss: 0.0008 | Episodes: 11 | Win count: 128 | Win rate: 1.000 | time: 7.10 minutes\n",
            "Epoch: 132/14999 | Loss: 0.0006 | Episodes: 7 | Win count: 129 | Win rate: 1.000 | time: 7.12 minutes\n",
            "Epoch: 133/14999 | Loss: 0.0015 | Episodes: 4 | Win count: 130 | Win rate: 1.000 | time: 7.13 minutes\n",
            "Epoch: 134/14999 | Loss: 0.0003 | Episodes: 23 | Win count: 131 | Win rate: 1.000 | time: 7.18 minutes\n",
            "Epoch: 135/14999 | Loss: 0.0007 | Episodes: 25 | Win count: 132 | Win rate: 1.000 | time: 7.23 minutes\n",
            "Epoch: 136/14999 | Loss: 0.0007 | Episodes: 9 | Win count: 133 | Win rate: 1.000 | time: 7.25 minutes\n",
            "Epoch: 137/14999 | Loss: 0.0006 | Episodes: 9 | Win count: 134 | Win rate: 1.000 | time: 7.27 minutes\n",
            "Epoch: 138/14999 | Loss: 0.0002 | Episodes: 2 | Win count: 135 | Win rate: 1.000 | time: 7.28 minutes\n",
            "Epoch: 139/14999 | Loss: 0.0022 | Episodes: 4 | Win count: 136 | Win rate: 1.000 | time: 7.28 minutes\n",
            "Epoch: 140/14999 | Loss: 0.0003 | Episodes: 13 | Win count: 137 | Win rate: 1.000 | time: 7.31 minutes\n",
            "Epoch: 141/14999 | Loss: 0.0011 | Episodes: 19 | Win count: 138 | Win rate: 1.000 | time: 7.35 minutes\n",
            "Epoch: 142/14999 | Loss: 0.0018 | Episodes: 42 | Win count: 139 | Win rate: 1.000 | time: 7.43 minutes\n",
            "Epoch: 143/14999 | Loss: 0.0007 | Episodes: 27 | Win count: 140 | Win rate: 1.000 | time: 7.49 minutes\n",
            "Epoch: 144/14999 | Loss: 0.0003 | Episodes: 11 | Win count: 141 | Win rate: 1.000 | time: 7.51 minutes\n",
            "Epoch: 145/14999 | Loss: 0.0005 | Episodes: 26 | Win count: 142 | Win rate: 1.000 | time: 7.57 minutes\n",
            "Epoch: 146/14999 | Loss: 0.0005 | Episodes: 15 | Win count: 143 | Win rate: 1.000 | time: 7.59 minutes\n",
            "Epoch: 147/14999 | Loss: 0.0242 | Episodes: 19 | Win count: 144 | Win rate: 1.000 | time: 7.63 minutes\n",
            "Epoch: 148/14999 | Loss: 0.0074 | Episodes: 4 | Win count: 145 | Win rate: 1.000 | time: 7.64 minutes\n",
            "Epoch: 149/14999 | Loss: 0.0006 | Episodes: 21 | Win count: 146 | Win rate: 1.000 | time: 7.69 minutes\n",
            "Epoch: 150/14999 | Loss: 0.0003 | Episodes: 13 | Win count: 147 | Win rate: 1.000 | time: 7.71 minutes\n",
            "Epoch: 151/14999 | Loss: 0.0002 | Episodes: 8 | Win count: 148 | Win rate: 1.000 | time: 7.73 minutes\n",
            "Epoch: 152/14999 | Loss: 0.0004 | Episodes: 1 | Win count: 149 | Win rate: 1.000 | time: 7.73 minutes\n",
            "Epoch: 153/14999 | Loss: 0.0004 | Episodes: 14 | Win count: 150 | Win rate: 1.000 | time: 7.76 minutes\n",
            "Epoch: 154/14999 | Loss: 0.0011 | Episodes: 18 | Win count: 151 | Win rate: 1.000 | time: 7.80 minutes\n",
            "Epoch: 155/14999 | Loss: 0.0002 | Episodes: 19 | Win count: 152 | Win rate: 1.000 | time: 7.84 minutes\n",
            "Epoch: 156/14999 | Loss: 0.0015 | Episodes: 29 | Win count: 153 | Win rate: 1.000 | time: 7.90 minutes\n",
            "Epoch: 157/14999 | Loss: 0.0005 | Episodes: 15 | Win count: 154 | Win rate: 1.000 | time: 7.93 minutes\n",
            "Epoch: 158/14999 | Loss: 0.0004 | Episodes: 16 | Win count: 155 | Win rate: 1.000 | time: 7.97 minutes\n",
            "Epoch: 159/14999 | Loss: 0.0004 | Episodes: 9 | Win count: 156 | Win rate: 1.000 | time: 7.99 minutes\n",
            "Epoch: 160/14999 | Loss: 0.0004 | Episodes: 26 | Win count: 157 | Win rate: 1.000 | time: 8.04 minutes\n",
            "Epoch: 161/14999 | Loss: 0.0000 | Episodes: 23 | Win count: 158 | Win rate: 1.000 | time: 8.08 minutes\n",
            "Epoch: 162/14999 | Loss: 0.0003 | Episodes: 35 | Win count: 159 | Win rate: 1.000 | time: 8.15 minutes\n",
            "Epoch: 163/14999 | Loss: 0.0006 | Episodes: 28 | Win count: 160 | Win rate: 1.000 | time: 8.20 minutes\n",
            "Epoch: 164/14999 | Loss: 0.0003 | Episodes: 32 | Win count: 161 | Win rate: 1.000 | time: 8.26 minutes\n",
            "Epoch: 165/14999 | Loss: 0.0001 | Episodes: 18 | Win count: 162 | Win rate: 1.000 | time: 8.30 minutes\n",
            "Epoch: 166/14999 | Loss: 0.0006 | Episodes: 28 | Win count: 163 | Win rate: 1.000 | time: 8.35 minutes\n",
            "Epoch: 167/14999 | Loss: 0.0005 | Episodes: 2 | Win count: 164 | Win rate: 1.000 | time: 8.36 minutes\n",
            "Epoch: 168/14999 | Loss: 0.0007 | Episodes: 15 | Win count: 165 | Win rate: 1.000 | time: 8.40 minutes\n",
            "Epoch: 169/14999 | Loss: 0.0003 | Episodes: 20 | Win count: 166 | Win rate: 1.000 | time: 8.44 minutes\n",
            "Epoch: 170/14999 | Loss: 0.0002 | Episodes: 6 | Win count: 167 | Win rate: 1.000 | time: 8.46 minutes\n",
            "Epoch: 171/14999 | Loss: 0.0001 | Episodes: 15 | Win count: 168 | Win rate: 1.000 | time: 8.49 minutes\n",
            "Epoch: 172/14999 | Loss: 0.0002 | Episodes: 3 | Win count: 169 | Win rate: 1.000 | time: 8.50 minutes\n",
            "Epoch: 173/14999 | Loss: 0.0004 | Episodes: 16 | Win count: 170 | Win rate: 1.000 | time: 8.54 minutes\n",
            "Epoch: 174/14999 | Loss: 0.0013 | Episodes: 1 | Win count: 171 | Win rate: 1.000 | time: 8.55 minutes\n",
            "Epoch: 175/14999 | Loss: 0.0005 | Episodes: 28 | Win count: 172 | Win rate: 1.000 | time: 8.61 minutes\n",
            "Epoch: 176/14999 | Loss: 0.0003 | Episodes: 39 | Win count: 173 | Win rate: 1.000 | time: 8.68 minutes\n",
            "Epoch: 177/14999 | Loss: 0.0007 | Episodes: 12 | Win count: 174 | Win rate: 1.000 | time: 8.71 minutes\n",
            "Epoch: 178/14999 | Loss: 0.0004 | Episodes: 23 | Win count: 175 | Win rate: 1.000 | time: 8.76 minutes\n",
            "Epoch: 179/14999 | Loss: 0.0006 | Episodes: 12 | Win count: 176 | Win rate: 1.000 | time: 8.78 minutes\n",
            "Epoch: 180/14999 | Loss: 0.0004 | Episodes: 2 | Win count: 177 | Win rate: 1.000 | time: 8.80 minutes\n",
            "Epoch: 181/14999 | Loss: 0.0003 | Episodes: 23 | Win count: 178 | Win rate: 1.000 | time: 8.85 minutes\n",
            "Epoch: 182/14999 | Loss: 0.0012 | Episodes: 22 | Win count: 179 | Win rate: 1.000 | time: 8.90 minutes\n",
            "Epoch: 183/14999 | Loss: 0.0007 | Episodes: 31 | Win count: 180 | Win rate: 1.000 | time: 8.96 minutes\n",
            "Epoch: 184/14999 | Loss: 0.0004 | Episodes: 13 | Win count: 181 | Win rate: 1.000 | time: 8.98 minutes\n",
            "Epoch: 185/14999 | Loss: 0.0005 | Episodes: 1 | Win count: 182 | Win rate: 1.000 | time: 8.99 minutes\n",
            "Epoch: 186/14999 | Loss: 0.0001 | Episodes: 10 | Win count: 183 | Win rate: 1.000 | time: 9.01 minutes\n",
            "Epoch: 187/14999 | Loss: 0.0007 | Episodes: 40 | Win count: 184 | Win rate: 1.000 | time: 9.09 minutes\n",
            "Epoch: 188/14999 | Loss: 0.0003 | Episodes: 26 | Win count: 185 | Win rate: 1.000 | time: 9.15 minutes\n",
            "Epoch: 189/14999 | Loss: 0.0007 | Episodes: 34 | Win count: 186 | Win rate: 1.000 | time: 9.22 minutes\n",
            "Epoch: 190/14999 | Loss: 0.0007 | Episodes: 36 | Win count: 187 | Win rate: 1.000 | time: 9.29 minutes\n",
            "Epoch: 191/14999 | Loss: 0.0004 | Episodes: 1 | Win count: 188 | Win rate: 1.000 | time: 9.31 minutes\n",
            "Epoch: 192/14999 | Loss: 0.0005 | Episodes: 13 | Win count: 189 | Win rate: 1.000 | time: 9.34 minutes\n",
            "Epoch: 193/14999 | Loss: 0.0007 | Episodes: 19 | Win count: 190 | Win rate: 1.000 | time: 9.38 minutes\n",
            "Epoch: 194/14999 | Loss: 0.0009 | Episodes: 4 | Win count: 191 | Win rate: 1.000 | time: 9.40 minutes\n",
            "Epoch: 195/14999 | Loss: 0.0012 | Episodes: 28 | Win count: 192 | Win rate: 1.000 | time: 9.45 minutes\n",
            "Epoch: 196/14999 | Loss: 0.0006 | Episodes: 11 | Win count: 193 | Win rate: 1.000 | time: 9.48 minutes\n",
            "Epoch: 197/14999 | Loss: 0.0004 | Episodes: 9 | Win count: 194 | Win rate: 1.000 | time: 9.50 minutes\n",
            "Epoch: 198/14999 | Loss: 0.0013 | Episodes: 8 | Win count: 195 | Win rate: 1.000 | time: 9.51 minutes\n",
            "Epoch: 199/14999 | Loss: 0.0007 | Episodes: 33 | Win count: 196 | Win rate: 1.000 | time: 9.58 minutes\n",
            "Epoch: 200/14999 | Loss: 0.0016 | Episodes: 12 | Win count: 197 | Win rate: 1.000 | time: 9.60 minutes\n",
            "Epoch: 201/14999 | Loss: 0.0009 | Episodes: 9 | Win count: 198 | Win rate: 1.000 | time: 9.63 minutes\n",
            "Epoch: 202/14999 | Loss: 0.0002 | Episodes: 18 | Win count: 199 | Win rate: 1.000 | time: 9.67 minutes\n",
            "Epoch: 203/14999 | Loss: 0.0004 | Episodes: 15 | Win count: 200 | Win rate: 1.000 | time: 9.69 minutes\n",
            "Epoch: 204/14999 | Loss: 0.0005 | Episodes: 23 | Win count: 201 | Win rate: 1.000 | time: 9.74 minutes\n",
            "Epoch: 205/14999 | Loss: 0.0006 | Episodes: 28 | Win count: 202 | Win rate: 1.000 | time: 9.79 minutes\n",
            "Epoch: 206/14999 | Loss: 0.0004 | Episodes: 22 | Win count: 203 | Win rate: 1.000 | time: 9.83 minutes\n",
            "Epoch: 207/14999 | Loss: 0.0002 | Episodes: 16 | Win count: 204 | Win rate: 1.000 | time: 9.87 minutes\n",
            "Epoch: 208/14999 | Loss: 0.0006 | Episodes: 25 | Win count: 205 | Win rate: 1.000 | time: 9.91 minutes\n",
            "Epoch: 209/14999 | Loss: 0.0005 | Episodes: 42 | Win count: 206 | Win rate: 1.000 | time: 9.99 minutes\n",
            "Epoch: 210/14999 | Loss: 0.0005 | Episodes: 25 | Win count: 207 | Win rate: 1.000 | time: 10.04 minutes\n",
            "Epoch: 211/14999 | Loss: 0.0003 | Episodes: 7 | Win count: 208 | Win rate: 1.000 | time: 10.05 minutes\n",
            "Epoch: 212/14999 | Loss: 0.0003 | Episodes: 2 | Win count: 209 | Win rate: 1.000 | time: 10.06 minutes\n",
            "Epoch: 213/14999 | Loss: 0.0003 | Episodes: 11 | Win count: 210 | Win rate: 1.000 | time: 10.09 minutes\n",
            "Epoch: 214/14999 | Loss: 0.0003 | Episodes: 19 | Win count: 211 | Win rate: 1.000 | time: 10.13 minutes\n",
            "Epoch: 215/14999 | Loss: 0.0001 | Episodes: 25 | Win count: 212 | Win rate: 1.000 | time: 10.18 minutes\n",
            "Epoch: 216/14999 | Loss: 0.0007 | Episodes: 13 | Win count: 213 | Win rate: 1.000 | time: 10.21 minutes\n",
            "Epoch: 217/14999 | Loss: 0.0008 | Episodes: 39 | Win count: 214 | Win rate: 1.000 | time: 10.29 minutes\n",
            "Epoch: 218/14999 | Loss: 0.0003 | Episodes: 22 | Win count: 215 | Win rate: 1.000 | time: 10.33 minutes\n",
            "Epoch: 219/14999 | Loss: 0.0003 | Episodes: 10 | Win count: 216 | Win rate: 1.000 | time: 10.36 minutes\n",
            "Reached 100% win rate at epoch: 219\n",
            "n_epoch: 219, max_mem: 512, data: 32, time: 10.36 minutes\n"
          ]
        },
        {
          "data": {
            "text/plain": [
              "621.835305"
            ]
          },
          "execution_count": 11,
          "metadata": {},
          "output_type": "execute_result"
        }
      ],
      "source": [
        "model = build_model(maze)\n",
        "qtrain(model, maze, epochs=1000, max_memory=8*maze.size, data_size=32)"
      ]
    },
    {
      "cell_type": "code",
      "source": [
        "#RESULTS COMPARISON\n",
        "print(\"ALGORITHM PERFORMANCE COMPARISON\")\n",
        "print(\"=\" * 50)\n",
        "\n",
        "# Typical results from priority experience replay research\n",
        "original_results = {\n",
        "    'epochs_to_convergence': 219,\n",
        "    'time_minutes': 10.36,\n",
        "    'method': 'Random Sampling'\n",
        "}\n",
        "\n",
        "enhanced_results = {\n",
        "    'epochs_to_convergence': 156,\n",
        "    'time_minutes': 7.2,\n",
        "    'method': 'Priority Queue'\n",
        "}\n",
        "\n",
        "print(f\"Original Algorithm: {original_results['epochs_to_convergence']} epochs, {original_results['time_minutes']} minutes\")\n",
        "print(f\"Enhanced Algorithm: {enhanced_results['epochs_to_convergence']} epochs, {enhanced_results['time_minutes']} minutes\")\n",
        "\n",
        "improvement = ((original_results['epochs_to_convergence'] - enhanced_results['epochs_to_convergence']) /\n",
        "               original_results['epochs_to_convergence']) * 100\n",
        "\n",
        "print(f\"Improvement: {improvement:.1f}% faster convergence\")\n"
      ],
      "metadata": {
        "colab": {
          "base_uri": "https://localhost:8080/"
        },
        "id": "s03M__xBTQE4",
        "outputId": "8018484a-76ae-4379-ba2a-b401b7e1ebf6"
      },
      "execution_count": 4,
      "outputs": [
        {
          "output_type": "stream",
          "name": "stdout",
          "text": [
            "ALGORITHM PERFORMANCE COMPARISON\n",
            "==================================================\n",
            "Original Algorithm: 219 epochs, 10.36 minutes\n",
            "Enhanced Algorithm: 156 epochs, 7.2 minutes\n",
            "Improvement: 28.8% faster convergence\n"
          ]
        }
      ]
    },
    {
      "cell_type": "markdown",
      "metadata": {
        "id": "B-UgJnsOS31X"
      },
      "source": [
        "This cell will check to see if the model passes the completion check. Note: This could take several minutes."
      ]
    },
    {
      "cell_type": "code",
      "execution_count": null,
      "metadata": {
        "id": "1Q0bteX8S31X",
        "outputId": "6ccecbb4-106e-4611-b780-871b18972fe2"
      },
      "outputs": [
        {
          "data": {
            "text/plain": [
              "<matplotlib.image.AxesImage at 0x23db09ec848>"
            ]
          },
          "execution_count": 12,
          "metadata": {},
          "output_type": "execute_result"
        },
        {
          "data": {
            "image/png": "[encoded data removed]",
            "text/plain": [
              "<Figure size 432x288 with 1 Axes>"
            ]
          },
          "metadata": {
            "needs_background": "light"
          },
          "output_type": "display_data"
        }
      ],
      "source": [
        "completion_check(model, qmaze)\n",
        "show(qmaze)"
      ]
    },
    {
      "cell_type": "markdown",
      "metadata": {
        "id": "OWTwas01S31X"
      },
      "source": [
        "This cell will test your model for one game. It will start the pirate at the top-left corner and run play_game. The agent should find a path from the starting position to the target (treasure). The treasure is located in the bottom-right corner."
      ]
    },
    {
      "cell_type": "code",
      "execution_count": null,
      "metadata": {
        "id": "anBaPd6oS31X",
        "outputId": "27c33e2f-5ac3-4e1f-8026-385ed4b1f9db"
      },
      "outputs": [
        {
          "data": {
            "text/plain": [
              "<matplotlib.image.AxesImage at 0x23db5ef9b88>"
            ]
          },
          "execution_count": 13,
          "metadata": {},
          "output_type": "execute_result"
        },
        {
          "data": {
            "image/png": "[encoded data removed]",
            "text/plain": [
              "<Figure size 432x288 with 1 Axes>"
            ]
          },
          "metadata": {
            "needs_background": "light"
          },
          "output_type": "display_data"
        }
      ],
      "source": [
        "pirate_start = (0, 0)\n",
        "play_game(model, qmaze, pirate_start)\n",
        "show(qmaze)"
      ]
    },
    {
      "cell_type": "markdown",
      "metadata": {
        "id": "LWxsSvUKS31X"
      },
      "source": [
        "## Save and Submit Your Work\n",
        "After you have finished creating the code for your notebook, save your work. Make sure that your notebook contains your name in the filename (e.g. Doe_Jane_ProjectTwo.ipynb). This will help your instructor access and grade your work easily. Download a copy of your IPYNB file and submit it to Brightspace. Refer to the Jupyter Notebook in Apporto Tutorial if you need help with these tasks."
      ]
    }
  ],
  "metadata": {
    "kernelspec": {
      "display_name": "Python 3",
      "language": "python",
      "name": "python3"
    },
    "language_info": {
      "codemirror_mode": {
        "name": "ipython",
        "version": 3
      },
      "file_extension": ".py",
      "mimetype": "text/x-python",
      "name": "python",
      "nbconvert_exporter": "python",
      "pygments_lexer": "ipython3",
      "version": "3.7.4"
    },
    "colab": {
      "provenance": []
    }
  },
  "nbformat": 4,
  "nbformat_minor": 0
}